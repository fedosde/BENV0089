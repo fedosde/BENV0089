git init
git add README.md  
git add TestCase.ipynb
git commit -m "TestCase" 
git remote add origin https://github.com/fedosde/BENV0089.git 
git push -u origin master 
